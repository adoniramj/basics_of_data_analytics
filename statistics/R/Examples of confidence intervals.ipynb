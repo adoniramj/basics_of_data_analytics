{
 "cells": [
  {
   "cell_type": "markdown",
   "metadata": {
    "toc": true
   },
   "source": [
    "<h1>Table of Contents<span class=\"tocSkip\"></span></h1>\n",
    "<div class=\"toc\"><ul class=\"toc-item\"><li><span><a href=\"#Example-1\" data-toc-modified-id=\"Example-1-1\"><span class=\"toc-item-num\">1&nbsp;&nbsp;</span>Example 1</a></span><ul class=\"toc-item\"><li><span><a href=\"#Interpretation-of-result\" data-toc-modified-id=\"Interpretation-of-result-1.1\"><span class=\"toc-item-num\">1.1&nbsp;&nbsp;</span>Interpretation of result</a></span></li></ul></li><li><span><a href=\"#Example-2\" data-toc-modified-id=\"Example-2-2\"><span class=\"toc-item-num\">2&nbsp;&nbsp;</span>Example 2</a></span><ul class=\"toc-item\"><li><span><a href=\"#Interpretation-of-result\" data-toc-modified-id=\"Interpretation-of-result-2.1\"><span class=\"toc-item-num\">2.1&nbsp;&nbsp;</span>Interpretation of result</a></span></li></ul></li></ul></div>"
   ]
  },
  {
   "cell_type": "markdown",
   "metadata": {},
   "source": [
    "## Example 1\n",
    "\n",
    "Given the following data calculate a 95% CI\n",
    "\n",
    "$n = 15$\n",
    "\n",
    "$s = 4$\n",
    "\n",
    "$\\bar x = 20$\n",
    "\n",
    "The confidence interval is given by the follwing formula\n",
    "\n",
    "\n",
    "<span style=\"font-size: 16px; color: blue;\"> $\\bar{X} - t_\\frac{\\alpha}{2}.\\frac{s}{\\sqrt{n}} < \\mu < \\bar{X} + t_\\frac{\\alpha}{2}.\\frac{s}{\\sqrt{n}}$</span>\n"
   ]
  },
  {
   "cell_type": "code",
   "execution_count": 4,
   "metadata": {},
   "outputs": [
    {
     "data": {
      "text/html": [
       "<style>\n",
       ".list-inline {list-style: none; margin:0; padding: 0}\n",
       ".list-inline>li {display: inline-block}\n",
       ".list-inline>li:not(:last-child)::after {content: \"\\00b7\"; padding: 0 .5ex}\n",
       "</style>\n",
       "<ol class=list-inline><li>-2.1447866879178</li><li>2.1447866879178</li></ol>\n"
      ],
      "text/latex": [
       "\\begin{enumerate*}\n",
       "\\item -2.1447866879178\n",
       "\\item 2.1447866879178\n",
       "\\end{enumerate*}\n"
      ],
      "text/markdown": [
       "1. -2.1447866879178\n",
       "2. 2.1447866879178\n",
       "\n",
       "\n"
      ],
      "text/plain": [
       "[1] -2.144787  2.144787"
      ]
     },
     "metadata": {},
     "output_type": "display_data"
    },
    {
     "data": {
      "text/html": [
       "1.03279555898864"
      ],
      "text/latex": [
       "1.03279555898864"
      ],
      "text/markdown": [
       "1.03279555898864"
      ],
      "text/plain": [
       "[1] 1.032796"
      ]
     },
     "metadata": {},
     "output_type": "display_data"
    },
    {
     "data": {
      "text/html": [
       "<style>\n",
       ".list-inline {list-style: none; margin:0; padding: 0}\n",
       ".list-inline>li {display: inline-block}\n",
       ".list-inline>li:not(:last-child)::after {content: \"\\00b7\"; padding: 0 .5ex}\n",
       "</style>\n",
       "<ol class=list-inline><li>-2.21512616625947</li><li>2.21512616625947</li></ol>\n"
      ],
      "text/latex": [
       "\\begin{enumerate*}\n",
       "\\item -2.21512616625947\n",
       "\\item 2.21512616625947\n",
       "\\end{enumerate*}\n"
      ],
      "text/markdown": [
       "1. -2.21512616625947\n",
       "2. 2.21512616625947\n",
       "\n",
       "\n"
      ],
      "text/plain": [
       "[1] -2.215126  2.215126"
      ]
     },
     "metadata": {},
     "output_type": "display_data"
    },
    {
     "data": {
      "text/html": [
       "<style>\n",
       ".list-inline {list-style: none; margin:0; padding: 0}\n",
       ".list-inline>li {display: inline-block}\n",
       ".list-inline>li:not(:last-child)::after {content: \"\\00b7\"; padding: 0 .5ex}\n",
       "</style>\n",
       "<ol class=list-inline><li>17.7848738337405</li><li>22.2151261662595</li></ol>\n"
      ],
      "text/latex": [
       "\\begin{enumerate*}\n",
       "\\item 17.7848738337405\n",
       "\\item 22.2151261662595\n",
       "\\end{enumerate*}\n"
      ],
      "text/markdown": [
       "1. 17.7848738337405\n",
       "2. 22.2151261662595\n",
       "\n",
       "\n"
      ],
      "text/plain": [
       "[1] 17.78487 22.21513"
      ]
     },
     "metadata": {},
     "output_type": "display_data"
    }
   ],
   "source": [
    "# step 1 find t for alpha of 0.025 and 0.975\n",
    "\n",
    "t = qt(c(0.025,0.975), df = 14)\n",
    "t\n",
    "\n",
    "# step 2 find s_x\n",
    "\n",
    "s_x = 4/sqrt(15)\n",
    "s_x\n",
    "\n",
    "margin_of_error <- t*s_x\n",
    "margin_of_error\n",
    "\n",
    "# step 3 calculate ci\n",
    "ci <- 20 + margin_of_error\n",
    "ci"
   ]
  },
  {
   "cell_type": "markdown",
   "metadata": {},
   "source": [
    "### Interpretation of result\n",
    "\n",
    "We are 95% confident the the interval (17.79 - 22.21) contains the population mean.\n",
    "\n",
    "We're not saying that there is a 95% probability that the population mean is inside the interval."
   ]
  },
  {
   "cell_type": "markdown",
   "metadata": {},
   "source": [
    "## Example 2\n",
    "\n",
    "Given the following data, calculate a 95% CI\n",
    "\n",
    "$n = 30$\n",
    "\n",
    "$s = 1958$\n",
    "\n",
    "$\\bar x = 3661.5$\n",
    "\n",
    "The confidence interval is given by the follwing formula\n",
    "\n",
    "\n",
    "<span style=\"font-size: 16px; color: blue;\"> $\\bar{X} - t_\\frac{\\alpha}{2}.\\frac{s}{\\sqrt{n}} < \\mu < \\bar{X} + t_\\frac{\\alpha}{2}.\\frac{s}{\\sqrt{n}}$</span>"
   ]
  },
  {
   "cell_type": "code",
   "execution_count": 6,
   "metadata": {},
   "outputs": [
    {
     "data": {
      "text/html": [
       "<style>\n",
       ".list-inline {list-style: none; margin:0; padding: 0}\n",
       ".list-inline>li {display: inline-block}\n",
       ".list-inline>li:not(:last-child)::after {content: \"\\00b7\"; padding: 0 .5ex}\n",
       "</style>\n",
       "<ol class=list-inline><li>-2.0452296421327</li><li>2.0452296421327</li></ol>\n"
      ],
      "text/latex": [
       "\\begin{enumerate*}\n",
       "\\item -2.0452296421327\n",
       "\\item 2.0452296421327\n",
       "\\end{enumerate*}\n"
      ],
      "text/markdown": [
       "1. -2.0452296421327\n",
       "2. 2.0452296421327\n",
       "\n",
       "\n"
      ],
      "text/plain": [
       "[1] -2.04523  2.04523"
      ]
     },
     "metadata": {},
     "output_type": "display_data"
    },
    {
     "data": {
      "text/html": [
       "357.480255865038"
      ],
      "text/latex": [
       "357.480255865038"
      ],
      "text/markdown": [
       "357.480255865038"
      ],
      "text/plain": [
       "[1] 357.4803"
      ]
     },
     "metadata": {},
     "output_type": "display_data"
    },
    {
     "data": {
      "text/html": [
       "<style>\n",
       ".list-inline {list-style: none; margin:0; padding: 0}\n",
       ".list-inline>li {display: inline-block}\n",
       ".list-inline>li:not(:last-child)::after {content: \"\\00b7\"; padding: 0 .5ex}\n",
       "</style>\n",
       "<ol class=list-inline><li>-731.12921577236</li><li>731.12921577236</li></ol>\n"
      ],
      "text/latex": [
       "\\begin{enumerate*}\n",
       "\\item -731.12921577236\n",
       "\\item 731.12921577236\n",
       "\\end{enumerate*}\n"
      ],
      "text/markdown": [
       "1. -731.12921577236\n",
       "2. 731.12921577236\n",
       "\n",
       "\n"
      ],
      "text/plain": [
       "[1] -731.1292  731.1292"
      ]
     },
     "metadata": {},
     "output_type": "display_data"
    },
    {
     "data": {
      "text/html": [
       "<style>\n",
       ".list-inline {list-style: none; margin:0; padding: 0}\n",
       ".list-inline>li {display: inline-block}\n",
       ".list-inline>li:not(:last-child)::after {content: \"\\00b7\"; padding: 0 .5ex}\n",
       "</style>\n",
       "<ol class=list-inline><li>2630.37078422764</li><li>4092.62921577236</li></ol>\n"
      ],
      "text/latex": [
       "\\begin{enumerate*}\n",
       "\\item 2630.37078422764\n",
       "\\item 4092.62921577236\n",
       "\\end{enumerate*}\n"
      ],
      "text/markdown": [
       "1. 2630.37078422764\n",
       "2. 4092.62921577236\n",
       "\n",
       "\n"
      ],
      "text/plain": [
       "[1] 2630.371 4092.629"
      ]
     },
     "metadata": {},
     "output_type": "display_data"
    }
   ],
   "source": [
    "t = qt(c(0.025,0.975), df = 29)\n",
    "t\n",
    "\n",
    "# step 2 find s_x\n",
    "\n",
    "s_x = 1958/sqrt(30)\n",
    "s_x\n",
    "\n",
    "margin_of_error <- t*s_x\n",
    "margin_of_error\n",
    "\n",
    "# step 3 calculate ci\n",
    "ci <- 3361.5 + margin_of_error\n",
    "ci"
   ]
  },
  {
   "cell_type": "markdown",
   "metadata": {},
   "source": [
    "### Interpretation of result\n",
    "\n",
    "We are 95% confident that salesperson spend between 2630 and 4092 seconds with a false customer each 8 hour day. Or we are 95 confident that this interval contains the population mean."
   ]
  },
  {
   "cell_type": "code",
   "execution_count": null,
   "metadata": {},
   "outputs": [],
   "source": []
  }
 ],
 "metadata": {
  "kernelspec": {
   "display_name": "R",
   "language": "R",
   "name": "ir"
  },
  "language_info": {
   "codemirror_mode": "r",
   "file_extension": ".r",
   "mimetype": "text/x-r-source",
   "name": "R",
   "pygments_lexer": "r",
   "version": "4.0.2"
  },
  "toc": {
   "base_numbering": 1,
   "nav_menu": {},
   "number_sections": true,
   "sideBar": true,
   "skip_h1_title": true,
   "title_cell": "Table of Contents",
   "title_sidebar": "Contents",
   "toc_cell": true,
   "toc_position": {},
   "toc_section_display": true,
   "toc_window_display": true
  }
 },
 "nbformat": 4,
 "nbformat_minor": 4
}
